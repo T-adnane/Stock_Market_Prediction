{
  "nbformat": 4,
  "nbformat_minor": 0,
  "metadata": {
    "colab": {
      "provenance": [],
      "authorship_tag": "ABX9TyMJe+I2U+7SiRxFfaAJGl8F",
      "include_colab_link": true
    },
    "kernelspec": {
      "name": "python3",
      "display_name": "Python 3"
    },
    "language_info": {
      "name": "python"
    }
  },
  "cells": [
    {
      "cell_type": "markdown",
      "metadata": {
        "id": "view-in-github",
        "colab_type": "text"
      },
      "source": [
        "<a href=\"https://colab.research.google.com/github/T-adnane/Stock_Market_Prediction/blob/main/Stock_Market_Prediction.ipynb\" target=\"_parent\"><img src=\"https://colab.research.google.com/assets/colab-badge.svg\" alt=\"Open In Colab\"/></a>"
      ]
    },
    {
      "cell_type": "code",
      "execution_count": 3,
      "metadata": {
        "id": "4-Z5Idfp3OIQ"
      },
      "outputs": [],
      "source": [
        "import yfinance as yf"
      ]
    },
    {
      "cell_type": "code",
      "source": [
        "sp500 = yf.Ticker(\"^GSPC\")"
      ],
      "metadata": {
        "id": "pGMIdrmc3TS5"
      },
      "execution_count": 4,
      "outputs": []
    },
    {
      "cell_type": "code",
      "source": [
        "sp500 = sp500.history(period=\"max\")"
      ],
      "metadata": {
        "id": "zFgdibY03mYg"
      },
      "execution_count": 5,
      "outputs": []
    },
    {
      "cell_type": "code",
      "source": [
        "sp500"
      ],
      "metadata": {
        "colab": {
          "base_uri": "https://localhost:8080/",
          "height": 455
        },
        "id": "R0rbp0o33rqs",
        "outputId": "9e9c7ca8-10ce-4281-ee73-fcd01c49674a"
      },
      "execution_count": 6,
      "outputs": [
        {
          "output_type": "execute_result",
          "data": {
            "text/plain": [
              "                                  Open         High          Low        Close  \\\n",
              "Date                                                                            \n",
              "1927-12-30 00:00:00-05:00    17.660000    17.660000    17.660000    17.660000   \n",
              "1928-01-03 00:00:00-05:00    17.760000    17.760000    17.760000    17.760000   \n",
              "1928-01-04 00:00:00-05:00    17.719999    17.719999    17.719999    17.719999   \n",
              "1928-01-05 00:00:00-05:00    17.549999    17.549999    17.549999    17.549999   \n",
              "1928-01-06 00:00:00-05:00    17.660000    17.660000    17.660000    17.660000   \n",
              "...                                ...          ...          ...          ...   \n",
              "2023-02-09 00:00:00-05:00  4144.250000  4156.229980  4069.669922  4081.500000   \n",
              "2023-02-10 00:00:00-05:00  4068.919922  4094.360107  4060.790039  4090.459961   \n",
              "2023-02-13 00:00:00-05:00  4096.620117  4138.899902  4092.669922  4137.290039   \n",
              "2023-02-14 00:00:00-05:00  4126.700195  4159.770020  4095.010010  4136.129883   \n",
              "2023-02-15 00:00:00-05:00  4119.500000  4144.709961  4103.979980  4144.240234   \n",
              "\n",
              "                               Volume  Dividends  Stock Splits  \n",
              "Date                                                            \n",
              "1927-12-30 00:00:00-05:00           0        0.0           0.0  \n",
              "1928-01-03 00:00:00-05:00           0        0.0           0.0  \n",
              "1928-01-04 00:00:00-05:00           0        0.0           0.0  \n",
              "1928-01-05 00:00:00-05:00           0        0.0           0.0  \n",
              "1928-01-06 00:00:00-05:00           0        0.0           0.0  \n",
              "...                               ...        ...           ...  \n",
              "2023-02-09 00:00:00-05:00  4270200000        0.0           0.0  \n",
              "2023-02-10 00:00:00-05:00  3891520000        0.0           0.0  \n",
              "2023-02-13 00:00:00-05:00  3448620000        0.0           0.0  \n",
              "2023-02-14 00:00:00-05:00  3929200000        0.0           0.0  \n",
              "2023-02-15 00:00:00-05:00  1778253000        0.0           0.0  \n",
              "\n",
              "[23896 rows x 7 columns]"
            ],
            "text/html": [
              "\n",
              "  <div id=\"df-97f73982-ca77-4a97-84ee-023168a01940\">\n",
              "    <div class=\"colab-df-container\">\n",
              "      <div>\n",
              "<style scoped>\n",
              "    .dataframe tbody tr th:only-of-type {\n",
              "        vertical-align: middle;\n",
              "    }\n",
              "\n",
              "    .dataframe tbody tr th {\n",
              "        vertical-align: top;\n",
              "    }\n",
              "\n",
              "    .dataframe thead th {\n",
              "        text-align: right;\n",
              "    }\n",
              "</style>\n",
              "<table border=\"1\" class=\"dataframe\">\n",
              "  <thead>\n",
              "    <tr style=\"text-align: right;\">\n",
              "      <th></th>\n",
              "      <th>Open</th>\n",
              "      <th>High</th>\n",
              "      <th>Low</th>\n",
              "      <th>Close</th>\n",
              "      <th>Volume</th>\n",
              "      <th>Dividends</th>\n",
              "      <th>Stock Splits</th>\n",
              "    </tr>\n",
              "    <tr>\n",
              "      <th>Date</th>\n",
              "      <th></th>\n",
              "      <th></th>\n",
              "      <th></th>\n",
              "      <th></th>\n",
              "      <th></th>\n",
              "      <th></th>\n",
              "      <th></th>\n",
              "    </tr>\n",
              "  </thead>\n",
              "  <tbody>\n",
              "    <tr>\n",
              "      <th>1927-12-30 00:00:00-05:00</th>\n",
              "      <td>17.660000</td>\n",
              "      <td>17.660000</td>\n",
              "      <td>17.660000</td>\n",
              "      <td>17.660000</td>\n",
              "      <td>0</td>\n",
              "      <td>0.0</td>\n",
              "      <td>0.0</td>\n",
              "    </tr>\n",
              "    <tr>\n",
              "      <th>1928-01-03 00:00:00-05:00</th>\n",
              "      <td>17.760000</td>\n",
              "      <td>17.760000</td>\n",
              "      <td>17.760000</td>\n",
              "      <td>17.760000</td>\n",
              "      <td>0</td>\n",
              "      <td>0.0</td>\n",
              "      <td>0.0</td>\n",
              "    </tr>\n",
              "    <tr>\n",
              "      <th>1928-01-04 00:00:00-05:00</th>\n",
              "      <td>17.719999</td>\n",
              "      <td>17.719999</td>\n",
              "      <td>17.719999</td>\n",
              "      <td>17.719999</td>\n",
              "      <td>0</td>\n",
              "      <td>0.0</td>\n",
              "      <td>0.0</td>\n",
              "    </tr>\n",
              "    <tr>\n",
              "      <th>1928-01-05 00:00:00-05:00</th>\n",
              "      <td>17.549999</td>\n",
              "      <td>17.549999</td>\n",
              "      <td>17.549999</td>\n",
              "      <td>17.549999</td>\n",
              "      <td>0</td>\n",
              "      <td>0.0</td>\n",
              "      <td>0.0</td>\n",
              "    </tr>\n",
              "    <tr>\n",
              "      <th>1928-01-06 00:00:00-05:00</th>\n",
              "      <td>17.660000</td>\n",
              "      <td>17.660000</td>\n",
              "      <td>17.660000</td>\n",
              "      <td>17.660000</td>\n",
              "      <td>0</td>\n",
              "      <td>0.0</td>\n",
              "      <td>0.0</td>\n",
              "    </tr>\n",
              "    <tr>\n",
              "      <th>...</th>\n",
              "      <td>...</td>\n",
              "      <td>...</td>\n",
              "      <td>...</td>\n",
              "      <td>...</td>\n",
              "      <td>...</td>\n",
              "      <td>...</td>\n",
              "      <td>...</td>\n",
              "    </tr>\n",
              "    <tr>\n",
              "      <th>2023-02-09 00:00:00-05:00</th>\n",
              "      <td>4144.250000</td>\n",
              "      <td>4156.229980</td>\n",
              "      <td>4069.669922</td>\n",
              "      <td>4081.500000</td>\n",
              "      <td>4270200000</td>\n",
              "      <td>0.0</td>\n",
              "      <td>0.0</td>\n",
              "    </tr>\n",
              "    <tr>\n",
              "      <th>2023-02-10 00:00:00-05:00</th>\n",
              "      <td>4068.919922</td>\n",
              "      <td>4094.360107</td>\n",
              "      <td>4060.790039</td>\n",
              "      <td>4090.459961</td>\n",
              "      <td>3891520000</td>\n",
              "      <td>0.0</td>\n",
              "      <td>0.0</td>\n",
              "    </tr>\n",
              "    <tr>\n",
              "      <th>2023-02-13 00:00:00-05:00</th>\n",
              "      <td>4096.620117</td>\n",
              "      <td>4138.899902</td>\n",
              "      <td>4092.669922</td>\n",
              "      <td>4137.290039</td>\n",
              "      <td>3448620000</td>\n",
              "      <td>0.0</td>\n",
              "      <td>0.0</td>\n",
              "    </tr>\n",
              "    <tr>\n",
              "      <th>2023-02-14 00:00:00-05:00</th>\n",
              "      <td>4126.700195</td>\n",
              "      <td>4159.770020</td>\n",
              "      <td>4095.010010</td>\n",
              "      <td>4136.129883</td>\n",
              "      <td>3929200000</td>\n",
              "      <td>0.0</td>\n",
              "      <td>0.0</td>\n",
              "    </tr>\n",
              "    <tr>\n",
              "      <th>2023-02-15 00:00:00-05:00</th>\n",
              "      <td>4119.500000</td>\n",
              "      <td>4144.709961</td>\n",
              "      <td>4103.979980</td>\n",
              "      <td>4144.240234</td>\n",
              "      <td>1778253000</td>\n",
              "      <td>0.0</td>\n",
              "      <td>0.0</td>\n",
              "    </tr>\n",
              "  </tbody>\n",
              "</table>\n",
              "<p>23896 rows × 7 columns</p>\n",
              "</div>\n",
              "      <button class=\"colab-df-convert\" onclick=\"convertToInteractive('df-97f73982-ca77-4a97-84ee-023168a01940')\"\n",
              "              title=\"Convert this dataframe to an interactive table.\"\n",
              "              style=\"display:none;\">\n",
              "        \n",
              "  <svg xmlns=\"http://www.w3.org/2000/svg\" height=\"24px\"viewBox=\"0 0 24 24\"\n",
              "       width=\"24px\">\n",
              "    <path d=\"M0 0h24v24H0V0z\" fill=\"none\"/>\n",
              "    <path d=\"M18.56 5.44l.94 2.06.94-2.06 2.06-.94-2.06-.94-.94-2.06-.94 2.06-2.06.94zm-11 1L8.5 8.5l.94-2.06 2.06-.94-2.06-.94L8.5 2.5l-.94 2.06-2.06.94zm10 10l.94 2.06.94-2.06 2.06-.94-2.06-.94-.94-2.06-.94 2.06-2.06.94z\"/><path d=\"M17.41 7.96l-1.37-1.37c-.4-.4-.92-.59-1.43-.59-.52 0-1.04.2-1.43.59L10.3 9.45l-7.72 7.72c-.78.78-.78 2.05 0 2.83L4 21.41c.39.39.9.59 1.41.59.51 0 1.02-.2 1.41-.59l7.78-7.78 2.81-2.81c.8-.78.8-2.07 0-2.86zM5.41 20L4 18.59l7.72-7.72 1.47 1.35L5.41 20z\"/>\n",
              "  </svg>\n",
              "      </button>\n",
              "      \n",
              "  <style>\n",
              "    .colab-df-container {\n",
              "      display:flex;\n",
              "      flex-wrap:wrap;\n",
              "      gap: 12px;\n",
              "    }\n",
              "\n",
              "    .colab-df-convert {\n",
              "      background-color: #E8F0FE;\n",
              "      border: none;\n",
              "      border-radius: 50%;\n",
              "      cursor: pointer;\n",
              "      display: none;\n",
              "      fill: #1967D2;\n",
              "      height: 32px;\n",
              "      padding: 0 0 0 0;\n",
              "      width: 32px;\n",
              "    }\n",
              "\n",
              "    .colab-df-convert:hover {\n",
              "      background-color: #E2EBFA;\n",
              "      box-shadow: 0px 1px 2px rgba(60, 64, 67, 0.3), 0px 1px 3px 1px rgba(60, 64, 67, 0.15);\n",
              "      fill: #174EA6;\n",
              "    }\n",
              "\n",
              "    [theme=dark] .colab-df-convert {\n",
              "      background-color: #3B4455;\n",
              "      fill: #D2E3FC;\n",
              "    }\n",
              "\n",
              "    [theme=dark] .colab-df-convert:hover {\n",
              "      background-color: #434B5C;\n",
              "      box-shadow: 0px 1px 3px 1px rgba(0, 0, 0, 0.15);\n",
              "      filter: drop-shadow(0px 1px 2px rgba(0, 0, 0, 0.3));\n",
              "      fill: #FFFFFF;\n",
              "    }\n",
              "  </style>\n",
              "\n",
              "      <script>\n",
              "        const buttonEl =\n",
              "          document.querySelector('#df-97f73982-ca77-4a97-84ee-023168a01940 button.colab-df-convert');\n",
              "        buttonEl.style.display =\n",
              "          google.colab.kernel.accessAllowed ? 'block' : 'none';\n",
              "\n",
              "        async function convertToInteractive(key) {\n",
              "          const element = document.querySelector('#df-97f73982-ca77-4a97-84ee-023168a01940');\n",
              "          const dataTable =\n",
              "            await google.colab.kernel.invokeFunction('convertToInteractive',\n",
              "                                                     [key], {});\n",
              "          if (!dataTable) return;\n",
              "\n",
              "          const docLinkHtml = 'Like what you see? Visit the ' +\n",
              "            '<a target=\"_blank\" href=https://colab.research.google.com/notebooks/data_table.ipynb>data table notebook</a>'\n",
              "            + ' to learn more about interactive tables.';\n",
              "          element.innerHTML = '';\n",
              "          dataTable['output_type'] = 'display_data';\n",
              "          await google.colab.output.renderOutput(dataTable, element);\n",
              "          const docLink = document.createElement('div');\n",
              "          docLink.innerHTML = docLinkHtml;\n",
              "          element.appendChild(docLink);\n",
              "        }\n",
              "      </script>\n",
              "    </div>\n",
              "  </div>\n",
              "  "
            ]
          },
          "metadata": {},
          "execution_count": 6
        }
      ]
    },
    {
      "cell_type": "code",
      "source": [
        "sp500.index"
      ],
      "metadata": {
        "colab": {
          "base_uri": "https://localhost:8080/"
        },
        "id": "IlwPBgfX3tkA",
        "outputId": "00ed4830-006b-4304-cf88-98d2398651ee"
      },
      "execution_count": 7,
      "outputs": [
        {
          "output_type": "execute_result",
          "data": {
            "text/plain": [
              "DatetimeIndex(['1927-12-30 00:00:00-05:00', '1928-01-03 00:00:00-05:00',\n",
              "               '1928-01-04 00:00:00-05:00', '1928-01-05 00:00:00-05:00',\n",
              "               '1928-01-06 00:00:00-05:00', '1928-01-09 00:00:00-05:00',\n",
              "               '1928-01-10 00:00:00-05:00', '1928-01-11 00:00:00-05:00',\n",
              "               '1928-01-12 00:00:00-05:00', '1928-01-13 00:00:00-05:00',\n",
              "               ...\n",
              "               '2023-02-02 00:00:00-05:00', '2023-02-03 00:00:00-05:00',\n",
              "               '2023-02-06 00:00:00-05:00', '2023-02-07 00:00:00-05:00',\n",
              "               '2023-02-08 00:00:00-05:00', '2023-02-09 00:00:00-05:00',\n",
              "               '2023-02-10 00:00:00-05:00', '2023-02-13 00:00:00-05:00',\n",
              "               '2023-02-14 00:00:00-05:00', '2023-02-15 00:00:00-05:00'],\n",
              "              dtype='datetime64[ns, America/New_York]', name='Date', length=23896, freq=None)"
            ]
          },
          "metadata": {},
          "execution_count": 7
        }
      ]
    },
    {
      "cell_type": "code",
      "source": [
        "sp500.plot.line(y=\"Close\", use_index=True)"
      ],
      "metadata": {
        "colab": {
          "base_uri": "https://localhost:8080/",
          "height": 289
        },
        "id": "NhKxb5MR353w",
        "outputId": "4c968dc4-18bd-4f64-e0d7-8042540259e8"
      },
      "execution_count": 8,
      "outputs": [
        {
          "output_type": "execute_result",
          "data": {
            "text/plain": [
              "<matplotlib.axes._subplots.AxesSubplot at 0x7f1061c038b0>"
            ]
          },
          "metadata": {},
          "execution_count": 8
        },
        {
          "output_type": "display_data",
          "data": {
            "text/plain": [
              "<Figure size 432x288 with 1 Axes>"
            ],
            "image/png": "[encoded data removed]"
          },
          "metadata": {
            "needs_background": "light"
          }
        }
      ]
    },
    {
      "cell_type": "code",
      "source": [
        "del sp500[\"Dividends\"]\n",
        "del sp500[\"Stock Splits\"]"
      ],
      "metadata": {
        "id": "QMS6mXYj4Es_"
      },
      "execution_count": 10,
      "outputs": []
    },
    {
      "cell_type": "code",
      "source": [
        "sp500[\"Tomorrow\"] = sp500[\"Close\"].shift(-1)"
      ],
      "metadata": {
        "id": "GDOQULxd4R3v"
      },
      "execution_count": 12,
      "outputs": []
    },
    {
      "cell_type": "code",
      "source": [
        "sp500[\"Target\"] = (sp500[\"Tomorrow\"]>sp500[\"Close\"]).astype(int)"
      ],
      "metadata": {
        "id": "baZ6nEXb4kHD"
      },
      "execution_count": 15,
      "outputs": []
    },
    {
      "cell_type": "code",
      "source": [
        "sp500 = sp500.loc[\"1990-01-01\":].copy()"
      ],
      "metadata": {
        "id": "SLS2mZYu4mGl"
      },
      "execution_count": 16,
      "outputs": []
    },
    {
      "cell_type": "code",
      "source": [
        "sp500"
      ],
      "metadata": {
        "colab": {
          "base_uri": "https://localhost:8080/",
          "height": 455
        },
        "id": "IRcW-JIa5ODK",
        "outputId": "6628efe9-b6ab-4e50-c598-e37fb1de1b35"
      },
      "execution_count": 17,
      "outputs": [
        {
          "output_type": "execute_result",
          "data": {
            "text/plain": [
              "                                  Open         High          Low        Close  \\\n",
              "Date                                                                            \n",
              "1990-01-02 00:00:00-05:00   353.399994   359.690002   351.980011   359.690002   \n",
              "1990-01-03 00:00:00-05:00   359.690002   360.589996   357.890015   358.760010   \n",
              "1990-01-04 00:00:00-05:00   358.760010   358.760010   352.890015   355.670013   \n",
              "1990-01-05 00:00:00-05:00   355.670013   355.670013   351.350006   352.200012   \n",
              "1990-01-08 00:00:00-05:00   352.200012   354.239990   350.540009   353.790009   \n",
              "...                                ...          ...          ...          ...   \n",
              "2023-02-09 00:00:00-05:00  4144.250000  4156.229980  4069.669922  4081.500000   \n",
              "2023-02-10 00:00:00-05:00  4068.919922  4094.360107  4060.790039  4090.459961   \n",
              "2023-02-13 00:00:00-05:00  4096.620117  4138.899902  4092.669922  4137.290039   \n",
              "2023-02-14 00:00:00-05:00  4126.700195  4159.770020  4095.010010  4136.129883   \n",
              "2023-02-15 00:00:00-05:00  4119.500000  4144.709961  4103.979980  4144.240234   \n",
              "\n",
              "                               Volume     Tomorrow  Target  \n",
              "Date                                                        \n",
              "1990-01-02 00:00:00-05:00   162070000   358.760010       0  \n",
              "1990-01-03 00:00:00-05:00   192330000   355.670013       0  \n",
              "1990-01-04 00:00:00-05:00   177000000   352.200012       0  \n",
              "1990-01-05 00:00:00-05:00   158530000   353.790009       1  \n",
              "1990-01-08 00:00:00-05:00   140110000   349.619995       0  \n",
              "...                               ...          ...     ...  \n",
              "2023-02-09 00:00:00-05:00  4270200000  4090.459961       1  \n",
              "2023-02-10 00:00:00-05:00  3891520000  4137.290039       1  \n",
              "2023-02-13 00:00:00-05:00  3448620000  4136.129883       0  \n",
              "2023-02-14 00:00:00-05:00  3929200000  4144.240234       1  \n",
              "2023-02-15 00:00:00-05:00  1778253000          NaN       0  \n",
              "\n",
              "[8346 rows x 7 columns]"
            ],
            "text/html": [
              "\n",
              "  <div id=\"df-f44f59e7-d564-4af2-a10f-033083a5d899\">\n",
              "    <div class=\"colab-df-container\">\n",
              "      <div>\n",
              "<style scoped>\n",
              "    .dataframe tbody tr th:only-of-type {\n",
              "        vertical-align: middle;\n",
              "    }\n",
              "\n",
              "    .dataframe tbody tr th {\n",
              "        vertical-align: top;\n",
              "    }\n",
              "\n",
              "    .dataframe thead th {\n",
              "        text-align: right;\n",
              "    }\n",
              "</style>\n",
              "<table border=\"1\" class=\"dataframe\">\n",
              "  <thead>\n",
              "    <tr style=\"text-align: right;\">\n",
              "      <th></th>\n",
              "      <th>Open</th>\n",
              "      <th>High</th>\n",
              "      <th>Low</th>\n",
              "      <th>Close</th>\n",
              "      <th>Volume</th>\n",
              "      <th>Tomorrow</th>\n",
              "      <th>Target</th>\n",
              "    </tr>\n",
              "    <tr>\n",
              "      <th>Date</th>\n",
              "      <th></th>\n",
              "      <th></th>\n",
              "      <th></th>\n",
              "      <th></th>\n",
              "      <th></th>\n",
              "      <th></th>\n",
              "      <th></th>\n",
              "    </tr>\n",
              "  </thead>\n",
              "  <tbody>\n",
              "    <tr>\n",
              "      <th>1990-01-02 00:00:00-05:00</th>\n",
              "      <td>353.399994</td>\n",
              "      <td>359.690002</td>\n",
              "      <td>351.980011</td>\n",
              "      <td>359.690002</td>\n",
              "      <td>162070000</td>\n",
              "      <td>358.760010</td>\n",
              "      <td>0</td>\n",
              "    </tr>\n",
              "    <tr>\n",
              "      <th>1990-01-03 00:00:00-05:00</th>\n",
              "      <td>359.690002</td>\n",
              "      <td>360.589996</td>\n",
              "      <td>357.890015</td>\n",
              "      <td>358.760010</td>\n",
              "      <td>192330000</td>\n",
              "      <td>355.670013</td>\n",
              "      <td>0</td>\n",
              "    </tr>\n",
              "    <tr>\n",
              "      <th>1990-01-04 00:00:00-05:00</th>\n",
              "      <td>358.760010</td>\n",
              "      <td>358.760010</td>\n",
              "      <td>352.890015</td>\n",
              "      <td>355.670013</td>\n",
              "      <td>177000000</td>\n",
              "      <td>352.200012</td>\n",
              "      <td>0</td>\n",
              "    </tr>\n",
              "    <tr>\n",
              "      <th>1990-01-05 00:00:00-05:00</th>\n",
              "      <td>355.670013</td>\n",
              "      <td>355.670013</td>\n",
              "      <td>351.350006</td>\n",
              "      <td>352.200012</td>\n",
              "      <td>158530000</td>\n",
              "      <td>353.790009</td>\n",
              "      <td>1</td>\n",
              "    </tr>\n",
              "    <tr>\n",
              "      <th>1990-01-08 00:00:00-05:00</th>\n",
              "      <td>352.200012</td>\n",
              "      <td>354.239990</td>\n",
              "      <td>350.540009</td>\n",
              "      <td>353.790009</td>\n",
              "      <td>140110000</td>\n",
              "      <td>349.619995</td>\n",
              "      <td>0</td>\n",
              "    </tr>\n",
              "    <tr>\n",
              "      <th>...</th>\n",
              "      <td>...</td>\n",
              "      <td>...</td>\n",
              "      <td>...</td>\n",
              "      <td>...</td>\n",
              "      <td>...</td>\n",
              "      <td>...</td>\n",
              "      <td>...</td>\n",
              "    </tr>\n",
              "    <tr>\n",
              "      <th>2023-02-09 00:00:00-05:00</th>\n",
              "      <td>4144.250000</td>\n",
              "      <td>4156.229980</td>\n",
              "      <td>4069.669922</td>\n",
              "      <td>4081.500000</td>\n",
              "      <td>4270200000</td>\n",
              "      <td>4090.459961</td>\n",
              "      <td>1</td>\n",
              "    </tr>\n",
              "    <tr>\n",
              "      <th>2023-02-10 00:00:00-05:00</th>\n",
              "      <td>4068.919922</td>\n",
              "      <td>4094.360107</td>\n",
              "      <td>4060.790039</td>\n",
              "      <td>4090.459961</td>\n",
              "      <td>3891520000</td>\n",
              "      <td>4137.290039</td>\n",
              "      <td>1</td>\n",
              "    </tr>\n",
              "    <tr>\n",
              "      <th>2023-02-13 00:00:00-05:00</th>\n",
              "      <td>4096.620117</td>\n",
              "      <td>4138.899902</td>\n",
              "      <td>4092.669922</td>\n",
              "      <td>4137.290039</td>\n",
              "      <td>3448620000</td>\n",
              "      <td>4136.129883</td>\n",
              "      <td>0</td>\n",
              "    </tr>\n",
              "    <tr>\n",
              "      <th>2023-02-14 00:00:00-05:00</th>\n",
              "      <td>4126.700195</td>\n",
              "      <td>4159.770020</td>\n",
              "      <td>4095.010010</td>\n",
              "      <td>4136.129883</td>\n",
              "      <td>3929200000</td>\n",
              "      <td>4144.240234</td>\n",
              "      <td>1</td>\n",
              "    </tr>\n",
              "    <tr>\n",
              "      <th>2023-02-15 00:00:00-05:00</th>\n",
              "      <td>4119.500000</td>\n",
              "      <td>4144.709961</td>\n",
              "      <td>4103.979980</td>\n",
              "      <td>4144.240234</td>\n",
              "      <td>1778253000</td>\n",
              "      <td>NaN</td>\n",
              "      <td>0</td>\n",
              "    </tr>\n",
              "  </tbody>\n",
              "</table>\n",
              "<p>8346 rows × 7 columns</p>\n",
              "</div>\n",
              "      <button class=\"colab-df-convert\" onclick=\"convertToInteractive('df-f44f59e7-d564-4af2-a10f-033083a5d899')\"\n",
              "              title=\"Convert this dataframe to an interactive table.\"\n",
              "              style=\"display:none;\">\n",
              "        \n",
              "  <svg xmlns=\"http://www.w3.org/2000/svg\" height=\"24px\"viewBox=\"0 0 24 24\"\n",
              "       width=\"24px\">\n",
              "    <path d=\"M0 0h24v24H0V0z\" fill=\"none\"/>\n",
              "    <path d=\"M18.56 5.44l.94 2.06.94-2.06 2.06-.94-2.06-.94-.94-2.06-.94 2.06-2.06.94zm-11 1L8.5 8.5l.94-2.06 2.06-.94-2.06-.94L8.5 2.5l-.94 2.06-2.06.94zm10 10l.94 2.06.94-2.06 2.06-.94-2.06-.94-.94-2.06-.94 2.06-2.06.94z\"/><path d=\"M17.41 7.96l-1.37-1.37c-.4-.4-.92-.59-1.43-.59-.52 0-1.04.2-1.43.59L10.3 9.45l-7.72 7.72c-.78.78-.78 2.05 0 2.83L4 21.41c.39.39.9.59 1.41.59.51 0 1.02-.2 1.41-.59l7.78-7.78 2.81-2.81c.8-.78.8-2.07 0-2.86zM5.41 20L4 18.59l7.72-7.72 1.47 1.35L5.41 20z\"/>\n",
              "  </svg>\n",
              "      </button>\n",
              "      \n",
              "  <style>\n",
              "    .colab-df-container {\n",
              "      display:flex;\n",
              "      flex-wrap:wrap;\n",
              "      gap: 12px;\n",
              "    }\n",
              "\n",
              "    .colab-df-convert {\n",
              "      background-color: #E8F0FE;\n",
              "      border: none;\n",
              "      border-radius: 50%;\n",
              "      cursor: pointer;\n",
              "      display: none;\n",
              "      fill: #1967D2;\n",
              "      height: 32px;\n",
              "      padding: 0 0 0 0;\n",
              "      width: 32px;\n",
              "    }\n",
              "\n",
              "    .colab-df-convert:hover {\n",
              "      background-color: #E2EBFA;\n",
              "      box-shadow: 0px 1px 2px rgba(60, 64, 67, 0.3), 0px 1px 3px 1px rgba(60, 64, 67, 0.15);\n",
              "      fill: #174EA6;\n",
              "    }\n",
              "\n",
              "    [theme=dark] .colab-df-convert {\n",
              "      background-color: #3B4455;\n",
              "      fill: #D2E3FC;\n",
              "    }\n",
              "\n",
              "    [theme=dark] .colab-df-convert:hover {\n",
              "      background-color: #434B5C;\n",
              "      box-shadow: 0px 1px 3px 1px rgba(0, 0, 0, 0.15);\n",
              "      filter: drop-shadow(0px 1px 2px rgba(0, 0, 0, 0.3));\n",
              "      fill: #FFFFFF;\n",
              "    }\n",
              "  </style>\n",
              "\n",
              "      <script>\n",
              "        const buttonEl =\n",
              "          document.querySelector('#df-f44f59e7-d564-4af2-a10f-033083a5d899 button.colab-df-convert');\n",
              "        buttonEl.style.display =\n",
              "          google.colab.kernel.accessAllowed ? 'block' : 'none';\n",
              "\n",
              "        async function convertToInteractive(key) {\n",
              "          const element = document.querySelector('#df-f44f59e7-d564-4af2-a10f-033083a5d899');\n",
              "          const dataTable =\n",
              "            await google.colab.kernel.invokeFunction('convertToInteractive',\n",
              "                                                     [key], {});\n",
              "          if (!dataTable) return;\n",
              "\n",
              "          const docLinkHtml = 'Like what you see? Visit the ' +\n",
              "            '<a target=\"_blank\" href=https://colab.research.google.com/notebooks/data_table.ipynb>data table notebook</a>'\n",
              "            + ' to learn more about interactive tables.';\n",
              "          element.innerHTML = '';\n",
              "          dataTable['output_type'] = 'display_data';\n",
              "          await google.colab.output.renderOutput(dataTable, element);\n",
              "          const docLink = document.createElement('div');\n",
              "          docLink.innerHTML = docLinkHtml;\n",
              "          element.appendChild(docLink);\n",
              "        }\n",
              "      </script>\n",
              "    </div>\n",
              "  </div>\n",
              "  "
            ]
          },
          "metadata": {},
          "execution_count": 17
        }
      ]
    },
    {
      "cell_type": "code",
      "source": [
        "from sklearn.ensemble import RandomForestClassifier\n",
        "model = RandomForestClassifier(n_estimators=1000, min_samples_split=100, random_state=1)\n",
        "train =sp500.iloc[:-100]\n",
        "test = sp500.iloc[-100:]\n",
        "predictors = [\"Close\", \"Volume\",\"Open\",\"High\",\"Low\"]\n",
        "model.fit(train[predictors], train[\"Target\"])"
      ],
      "metadata": {
        "colab": {
          "base_uri": "https://localhost:8080/"
        },
        "id": "tQJ0Bzov5PZ0",
        "outputId": "0a585da3-1484-4b86-e589-ba720c1d60a9"
      },
      "execution_count": 30,
      "outputs": [
        {
          "output_type": "execute_result",
          "data": {
            "text/plain": [
              "RandomForestClassifier(min_samples_split=100, n_estimators=1000, random_state=1)"
            ]
          },
          "metadata": {},
          "execution_count": 30
        }
      ]
    },
    {
      "cell_type": "code",
      "source": [
        "from sklearn.metrics import precision_score\n",
        "preds = model.predict(test[predictors])"
      ],
      "metadata": {
        "id": "xdXzt_lm6ilx"
      },
      "execution_count": 31,
      "outputs": []
    },
    {
      "cell_type": "code",
      "source": [
        "import pandas as pd\n",
        "preds = pd.Series(preds, index=test.index)"
      ],
      "metadata": {
        "id": "OrMsy3BD6yze"
      },
      "execution_count": 32,
      "outputs": []
    },
    {
      "cell_type": "code",
      "source": [
        "precision_score(test[\"Target\"], preds)"
      ],
      "metadata": {
        "colab": {
          "base_uri": "https://localhost:8080/"
        },
        "id": "2tgJUZsy66a6",
        "outputId": "23f72668-99e3-43bc-8bc5-b27332473514"
      },
      "execution_count": 33,
      "outputs": [
        {
          "output_type": "execute_result",
          "data": {
            "text/plain": [
              "0.38333333333333336"
            ]
          },
          "metadata": {},
          "execution_count": 33
        }
      ]
    },
    {
      "cell_type": "code",
      "source": [
        "combined = pd.concat([test[\"Target\"], preds], axis=1)"
      ],
      "metadata": {
        "id": "gpj0Gi2u7CMq"
      },
      "execution_count": 34,
      "outputs": []
    },
    {
      "cell_type": "code",
      "source": [
        "combined.plot()"
      ],
      "metadata": {
        "colab": {
          "base_uri": "https://localhost:8080/",
          "height": 294
        },
        "id": "hZwGItGY8xGw",
        "outputId": "b55280df-62d0-4d08-afa3-4505d63f4451"
      },
      "execution_count": 36,
      "outputs": [
        {
          "output_type": "execute_result",
          "data": {
            "text/plain": [
              "<matplotlib.axes._subplots.AxesSubplot at 0x7f1056531460>"
            ]
          },
          "metadata": {},
          "execution_count": 36
        },
        {
          "output_type": "display_data",
          "data": {
            "text/plain": [
              "<Figure size 432x288 with 1 Axes>"
            ],
            "image/png": "[encoded data removed]"
          },
          "metadata": {
            "needs_background": "light"
          }
        }
      ]
    },
    {
      "cell_type": "code",
      "source": [
        "def predict(train, test, predictors, model):\n",
        "  model.fit(train[predictors], train[\"Target\"])\n",
        "  preds = model.predict(test[predictors])\n",
        "  preds = pd.Series(preds, index=test.index, name=\"Predictions\")\n",
        "  combined = pd.concat([test[\"Target\"], preds], axis=1)\n",
        "  return combined"
      ],
      "metadata": {
        "id": "DDkTu4eP80oE"
      },
      "execution_count": 38,
      "outputs": []
    },
    {
      "cell_type": "code",
      "source": [
        "def backtest(data, model, predictors, start=2500, step=250):\n",
        "  all_predictions= []\n",
        "  for i in range(start, data.shape[0], step):\n",
        "    train = data.iloc[0:i].copy()\n",
        "    test = data.iloc[i:(i+step)].copy()\n",
        "    predictions = predict(train, test, predictors, model)\n",
        "    all_predictions.append(predictions)\n",
        "  return pd.concat(all_predictions)"
      ],
      "metadata": {
        "id": "oec4Dve49vaW"
      },
      "execution_count": 39,
      "outputs": []
    },
    {
      "cell_type": "code",
      "source": [
        "predictions = backtest(sp500, model, predictors)"
      ],
      "metadata": {
        "id": "qOzueiX9_JUx"
      },
      "execution_count": 40,
      "outputs": []
    },
    {
      "cell_type": "code",
      "source": [
        "predictions[\"Predictions\"].value_counts()"
      ],
      "metadata": {
        "colab": {
          "base_uri": "https://localhost:8080/"
        },
        "id": "nvH3Gmxj_WwV",
        "outputId": "e25a5cbc-a6a5-49a7-fa2a-cc5fb3fdeb41"
      },
      "execution_count": 41,
      "outputs": [
        {
          "output_type": "execute_result",
          "data": {
            "text/plain": [
              "0    3354\n",
              "1    2492\n",
              "Name: Predictions, dtype: int64"
            ]
          },
          "metadata": {},
          "execution_count": 41
        }
      ]
    },
    {
      "cell_type": "code",
      "source": [
        "precision_score(predictions[\"Target\"], predictions[\"Predictions\"])"
      ],
      "metadata": {
        "colab": {
          "base_uri": "https://localhost:8080/"
        },
        "id": "0cYNfueCA2T0",
        "outputId": "c64cfac9-54a1-409c-8418-cad4f028deef"
      },
      "execution_count": 42,
      "outputs": [
        {
          "output_type": "execute_result",
          "data": {
            "text/plain": [
              "0.5304975922953451"
            ]
          },
          "metadata": {},
          "execution_count": 42
        }
      ]
    },
    {
      "cell_type": "code",
      "source": [
        "predictions[\"Target\"].value_counts()/predictions.shape[0]"
      ],
      "metadata": {
        "colab": {
          "base_uri": "https://localhost:8080/"
        },
        "id": "dqaBFNY8ENtH",
        "outputId": "cccf5eb3-d13a-4a17-8dc3-1343879f612c"
      },
      "execution_count": 43,
      "outputs": [
        {
          "output_type": "execute_result",
          "data": {
            "text/plain": [
              "1    0.53404\n",
              "0    0.46596\n",
              "Name: Target, dtype: float64"
            ]
          },
          "metadata": {},
          "execution_count": 43
        }
      ]
    },
    {
      "cell_type": "code",
      "source": [
        "horizons = [2,5,60,250,1000]\n",
        "new_predictors = []\n",
        "for horizon in horizons:\n",
        "  rolling_averages = sp500.rolling(horizon).mean()\n",
        "  ratio_column = f\"Close_Ratio_{horizon}\"\n",
        "  sp500[ratio_column] = sp500[\"Close\"]/rolling_averages[\"Close\"]\n",
        "  trend_column = f\"Trend_{horizon}\"\n",
        "  sp500[trend_column] = sp500.shift(1).rolling(horizon).sum()[\"Target\"]\n",
        "  new_predictors += [ratio_column, trend_column]"
      ],
      "metadata": {
        "id": "OW9OZtyTEiLd"
      },
      "execution_count": 44,
      "outputs": []
    },
    {
      "cell_type": "code",
      "source": [
        "sp500 = sp500.dropna()"
      ],
      "metadata": {
        "id": "PxSA5j-hGdIj"
      },
      "execution_count": 46,
      "outputs": []
    },
    {
      "cell_type": "code",
      "source": [
        "sp500"
      ],
      "metadata": {
        "colab": {
          "base_uri": "https://localhost:8080/",
          "height": 1000
        },
        "id": "Ji_RQhMXGeXJ",
        "outputId": "773d197e-1bdb-48ee-ee6f-25c2262f5d95"
      },
      "execution_count": 47,
      "outputs": [
        {
          "output_type": "execute_result",
          "data": {
            "text/plain": [
              "                                  Open         High          Low        Close  \\\n",
              "Date                                                                            \n",
              "1993-12-14 00:00:00-05:00   465.730011   466.119995   462.459991   463.059998   \n",
              "1993-12-15 00:00:00-05:00   463.059998   463.690002   461.839996   461.839996   \n",
              "1993-12-16 00:00:00-05:00   461.859985   463.980011   461.859985   463.339996   \n",
              "1993-12-17 00:00:00-05:00   463.339996   466.380005   463.339996   466.380005   \n",
              "1993-12-20 00:00:00-05:00   466.380005   466.899994   465.529999   465.850006   \n",
              "...                                ...          ...          ...          ...   \n",
              "2023-02-08 00:00:00-05:00  4153.470215  4156.850098  4111.669922  4117.859863   \n",
              "2023-02-09 00:00:00-05:00  4144.250000  4156.229980  4069.669922  4081.500000   \n",
              "2023-02-10 00:00:00-05:00  4068.919922  4094.360107  4060.790039  4090.459961   \n",
              "2023-02-13 00:00:00-05:00  4096.620117  4138.899902  4092.669922  4137.290039   \n",
              "2023-02-14 00:00:00-05:00  4126.700195  4159.770020  4095.010010  4136.129883   \n",
              "\n",
              "                               Volume     Tomorrow  Target  Close_Ratio_2  \\\n",
              "Date                                                                        \n",
              "1993-12-14 00:00:00-05:00   275050000   461.839996       0       0.997157   \n",
              "1993-12-15 00:00:00-05:00   331770000   463.339996       1       0.998681   \n",
              "1993-12-16 00:00:00-05:00   284620000   466.380005       1       1.001621   \n",
              "1993-12-17 00:00:00-05:00   363750000   465.850006       0       1.003270   \n",
              "1993-12-20 00:00:00-05:00   255900000   465.299988       0       0.999431   \n",
              "...                               ...          ...     ...            ...   \n",
              "2023-02-08 00:00:00-05:00  4029820000  4081.500000       0       0.994429   \n",
              "2023-02-09 00:00:00-05:00  4270200000  4090.459961       1       0.995566   \n",
              "2023-02-10 00:00:00-05:00  3891520000  4137.290039       1       1.001096   \n",
              "2023-02-13 00:00:00-05:00  3448620000  4136.129883       0       1.005692   \n",
              "2023-02-14 00:00:00-05:00  3929200000  4144.240234       1       0.999860   \n",
              "\n",
              "                           Trend_2  Close_Ratio_5  Trend_5  Close_Ratio_60  \\\n",
              "Date                                                                         \n",
              "1993-12-14 00:00:00-05:00      1.0       0.996617      1.0        1.000283   \n",
              "1993-12-15 00:00:00-05:00      0.0       0.995899      1.0        0.997329   \n",
              "1993-12-16 00:00:00-05:00      1.0       0.999495      2.0        1.000311   \n",
              "1993-12-17 00:00:00-05:00      2.0       1.004991      3.0        1.006561   \n",
              "1993-12-20 00:00:00-05:00      1.0       1.003784      2.0        1.005120   \n",
              "...                            ...            ...      ...             ...   \n",
              "2023-02-08 00:00:00-05:00      1.0       0.994211      2.0        1.038017   \n",
              "2023-02-09 00:00:00-05:00      0.0       0.990130      1.0        1.028469   \n",
              "2023-02-10 00:00:00-05:00      1.0       0.994525      2.0        1.030150   \n",
              "2023-02-13 00:00:00-05:00      2.0       1.004630      3.0        1.041308   \n",
              "2023-02-14 00:00:00-05:00      1.0       1.005710      2.0        1.040242   \n",
              "\n",
              "                           Trend_60  Close_Ratio_250  Trend_250  \\\n",
              "Date                                                              \n",
              "1993-12-14 00:00:00-05:00      32.0         1.028047      127.0   \n",
              "1993-12-15 00:00:00-05:00      32.0         1.025151      126.0   \n",
              "1993-12-16 00:00:00-05:00      32.0         1.028274      127.0   \n",
              "1993-12-17 00:00:00-05:00      32.0         1.034781      128.0   \n",
              "1993-12-20 00:00:00-05:00      32.0         1.033359      128.0   \n",
              "...                             ...              ...        ...   \n",
              "2023-02-08 00:00:00-05:00      27.0         1.019690      110.0   \n",
              "2023-02-09 00:00:00-05:00      26.0         1.011110      110.0   \n",
              "2023-02-10 00:00:00-05:00      27.0         1.013659      111.0   \n",
              "2023-02-13 00:00:00-05:00      27.0         1.025533      112.0   \n",
              "2023-02-14 00:00:00-05:00      27.0         1.025586      111.0   \n",
              "\n",
              "                           Close_Ratio_1000  Trend_1000  \n",
              "Date                                                     \n",
              "1993-12-14 00:00:00-05:00          1.176082       512.0  \n",
              "1993-12-15 00:00:00-05:00          1.172676       512.0  \n",
              "1993-12-16 00:00:00-05:00          1.176163       513.0  \n",
              "1993-12-17 00:00:00-05:00          1.183537       514.0  \n",
              "1993-12-20 00:00:00-05:00          1.181856       513.0  \n",
              "...                                     ...         ...  \n",
              "2023-02-08 00:00:00-05:00          1.122772       535.0  \n",
              "2023-02-09 00:00:00-05:00          1.112462       535.0  \n",
              "2023-02-10 00:00:00-05:00          1.114510       535.0  \n",
              "2023-02-13 00:00:00-05:00          1.126858       535.0  \n",
              "2023-02-14 00:00:00-05:00          1.126130       535.0  \n",
              "\n",
              "[7345 rows x 17 columns]"
            ],
            "text/html": [
              "\n",
              "  <div id=\"df-8298c9a8-c330-405e-8278-62f257b7c73a\">\n",
              "    <div class=\"colab-df-container\">\n",
              "      <div>\n",
              "<style scoped>\n",
              "    .dataframe tbody tr th:only-of-type {\n",
              "        vertical-align: middle;\n",
              "    }\n",
              "\n",
              "    .dataframe tbody tr th {\n",
              "        vertical-align: top;\n",
              "    }\n",
              "\n",
              "    .dataframe thead th {\n",
              "        text-align: right;\n",
              "    }\n",
              "</style>\n",
              "<table border=\"1\" class=\"dataframe\">\n",
              "  <thead>\n",
              "    <tr style=\"text-align: right;\">\n",
              "      <th></th>\n",
              "      <th>Open</th>\n",
              "      <th>High</th>\n",
              "      <th>Low</th>\n",
              "      <th>Close</th>\n",
              "      <th>Volume</th>\n",
              "      <th>Tomorrow</th>\n",
              "      <th>Target</th>\n",
              "      <th>Close_Ratio_2</th>\n",
              "      <th>Trend_2</th>\n",
              "      <th>Close_Ratio_5</th>\n",
              "      <th>Trend_5</th>\n",
              "      <th>Close_Ratio_60</th>\n",
              "      <th>Trend_60</th>\n",
              "      <th>Close_Ratio_250</th>\n",
              "      <th>Trend_250</th>\n",
              "      <th>Close_Ratio_1000</th>\n",
              "      <th>Trend_1000</th>\n",
              "    </tr>\n",
              "    <tr>\n",
              "      <th>Date</th>\n",
              "      <th></th>\n",
              "      <th></th>\n",
              "      <th></th>\n",
              "      <th></th>\n",
              "      <th></th>\n",
              "      <th></th>\n",
              "      <th></th>\n",
              "      <th></th>\n",
              "      <th></th>\n",
              "      <th></th>\n",
              "      <th></th>\n",
              "      <th></th>\n",
              "      <th></th>\n",
              "      <th></th>\n",
              "      <th></th>\n",
              "      <th></th>\n",
              "      <th></th>\n",
              "    </tr>\n",
              "  </thead>\n",
              "  <tbody>\n",
              "    <tr>\n",
              "      <th>1993-12-14 00:00:00-05:00</th>\n",
              "      <td>465.730011</td>\n",
              "      <td>466.119995</td>\n",
              "      <td>462.459991</td>\n",
              "      <td>463.059998</td>\n",
              "      <td>275050000</td>\n",
              "      <td>461.839996</td>\n",
              "      <td>0</td>\n",
              "      <td>0.997157</td>\n",
              "      <td>1.0</td>\n",
              "      <td>0.996617</td>\n",
              "      <td>1.0</td>\n",
              "      <td>1.000283</td>\n",
              "      <td>32.0</td>\n",
              "      <td>1.028047</td>\n",
              "      <td>127.0</td>\n",
              "      <td>1.176082</td>\n",
              "      <td>512.0</td>\n",
              "    </tr>\n",
              "    <tr>\n",
              "      <th>1993-12-15 00:00:00-05:00</th>\n",
              "      <td>463.059998</td>\n",
              "      <td>463.690002</td>\n",
              "      <td>461.839996</td>\n",
              "      <td>461.839996</td>\n",
              "      <td>331770000</td>\n",
              "      <td>463.339996</td>\n",
              "      <td>1</td>\n",
              "      <td>0.998681</td>\n",
              "      <td>0.0</td>\n",
              "      <td>0.995899</td>\n",
              "      <td>1.0</td>\n",
              "      <td>0.997329</td>\n",
              "      <td>32.0</td>\n",
              "      <td>1.025151</td>\n",
              "      <td>126.0</td>\n",
              "      <td>1.172676</td>\n",
              "      <td>512.0</td>\n",
              "    </tr>\n",
              "    <tr>\n",
              "      <th>1993-12-16 00:00:00-05:00</th>\n",
              "      <td>461.859985</td>\n",
              "      <td>463.980011</td>\n",
              "      <td>461.859985</td>\n",
              "      <td>463.339996</td>\n",
              "      <td>284620000</td>\n",
              "      <td>466.380005</td>\n",
              "      <td>1</td>\n",
              "      <td>1.001621</td>\n",
              "      <td>1.0</td>\n",
              "      <td>0.999495</td>\n",
              "      <td>2.0</td>\n",
              "      <td>1.000311</td>\n",
              "      <td>32.0</td>\n",
              "      <td>1.028274</td>\n",
              "      <td>127.0</td>\n",
              "      <td>1.176163</td>\n",
              "      <td>513.0</td>\n",
              "    </tr>\n",
              "    <tr>\n",
              "      <th>1993-12-17 00:00:00-05:00</th>\n",
              "      <td>463.339996</td>\n",
              "      <td>466.380005</td>\n",
              "      <td>463.339996</td>\n",
              "      <td>466.380005</td>\n",
              "      <td>363750000</td>\n",
              "      <td>465.850006</td>\n",
              "      <td>0</td>\n",
              "      <td>1.003270</td>\n",
              "      <td>2.0</td>\n",
              "      <td>1.004991</td>\n",
              "      <td>3.0</td>\n",
              "      <td>1.006561</td>\n",
              "      <td>32.0</td>\n",
              "      <td>1.034781</td>\n",
              "      <td>128.0</td>\n",
              "      <td>1.183537</td>\n",
              "      <td>514.0</td>\n",
              "    </tr>\n",
              "    <tr>\n",
              "      <th>1993-12-20 00:00:00-05:00</th>\n",
              "      <td>466.380005</td>\n",
              "      <td>466.899994</td>\n",
              "      <td>465.529999</td>\n",
              "      <td>465.850006</td>\n",
              "      <td>255900000</td>\n",
              "      <td>465.299988</td>\n",
              "      <td>0</td>\n",
              "      <td>0.999431</td>\n",
              "      <td>1.0</td>\n",
              "      <td>1.003784</td>\n",
              "      <td>2.0</td>\n",
              "      <td>1.005120</td>\n",
              "      <td>32.0</td>\n",
              "      <td>1.033359</td>\n",
              "      <td>128.0</td>\n",
              "      <td>1.181856</td>\n",
              "      <td>513.0</td>\n",
              "    </tr>\n",
              "    <tr>\n",
              "      <th>...</th>\n",
              "      <td>...</td>\n",
              "      <td>...</td>\n",
              "      <td>...</td>\n",
              "      <td>...</td>\n",
              "      <td>...</td>\n",
              "      <td>...</td>\n",
              "      <td>...</td>\n",
              "      <td>...</td>\n",
              "      <td>...</td>\n",
              "      <td>...</td>\n",
              "      <td>...</td>\n",
              "      <td>...</td>\n",
              "      <td>...</td>\n",
              "      <td>...</td>\n",
              "      <td>...</td>\n",
              "      <td>...</td>\n",
              "      <td>...</td>\n",
              "    </tr>\n",
              "    <tr>\n",
              "      <th>2023-02-08 00:00:00-05:00</th>\n",
              "      <td>4153.470215</td>\n",
              "      <td>4156.850098</td>\n",
              "      <td>4111.669922</td>\n",
              "      <td>4117.859863</td>\n",
              "      <td>4029820000</td>\n",
              "      <td>4081.500000</td>\n",
              "      <td>0</td>\n",
              "      <td>0.994429</td>\n",
              "      <td>1.0</td>\n",
              "      <td>0.994211</td>\n",
              "      <td>2.0</td>\n",
              "      <td>1.038017</td>\n",
              "      <td>27.0</td>\n",
              "      <td>1.019690</td>\n",
              "      <td>110.0</td>\n",
              "      <td>1.122772</td>\n",
              "      <td>535.0</td>\n",
              "    </tr>\n",
              "    <tr>\n",
              "      <th>2023-02-09 00:00:00-05:00</th>\n",
              "      <td>4144.250000</td>\n",
              "      <td>4156.229980</td>\n",
              "      <td>4069.669922</td>\n",
              "      <td>4081.500000</td>\n",
              "      <td>4270200000</td>\n",
              "      <td>4090.459961</td>\n",
              "      <td>1</td>\n",
              "      <td>0.995566</td>\n",
              "      <td>0.0</td>\n",
              "      <td>0.990130</td>\n",
              "      <td>1.0</td>\n",
              "      <td>1.028469</td>\n",
              "      <td>26.0</td>\n",
              "      <td>1.011110</td>\n",
              "      <td>110.0</td>\n",
              "      <td>1.112462</td>\n",
              "      <td>535.0</td>\n",
              "    </tr>\n",
              "    <tr>\n",
              "      <th>2023-02-10 00:00:00-05:00</th>\n",
              "      <td>4068.919922</td>\n",
              "      <td>4094.360107</td>\n",
              "      <td>4060.790039</td>\n",
              "      <td>4090.459961</td>\n",
              "      <td>3891520000</td>\n",
              "      <td>4137.290039</td>\n",
              "      <td>1</td>\n",
              "      <td>1.001096</td>\n",
              "      <td>1.0</td>\n",
              "      <td>0.994525</td>\n",
              "      <td>2.0</td>\n",
              "      <td>1.030150</td>\n",
              "      <td>27.0</td>\n",
              "      <td>1.013659</td>\n",
              "      <td>111.0</td>\n",
              "      <td>1.114510</td>\n",
              "      <td>535.0</td>\n",
              "    </tr>\n",
              "    <tr>\n",
              "      <th>2023-02-13 00:00:00-05:00</th>\n",
              "      <td>4096.620117</td>\n",
              "      <td>4138.899902</td>\n",
              "      <td>4092.669922</td>\n",
              "      <td>4137.290039</td>\n",
              "      <td>3448620000</td>\n",
              "      <td>4136.129883</td>\n",
              "      <td>0</td>\n",
              "      <td>1.005692</td>\n",
              "      <td>2.0</td>\n",
              "      <td>1.004630</td>\n",
              "      <td>3.0</td>\n",
              "      <td>1.041308</td>\n",
              "      <td>27.0</td>\n",
              "      <td>1.025533</td>\n",
              "      <td>112.0</td>\n",
              "      <td>1.126858</td>\n",
              "      <td>535.0</td>\n",
              "    </tr>\n",
              "    <tr>\n",
              "      <th>2023-02-14 00:00:00-05:00</th>\n",
              "      <td>4126.700195</td>\n",
              "      <td>4159.770020</td>\n",
              "      <td>4095.010010</td>\n",
              "      <td>4136.129883</td>\n",
              "      <td>3929200000</td>\n",
              "      <td>4144.240234</td>\n",
              "      <td>1</td>\n",
              "      <td>0.999860</td>\n",
              "      <td>1.0</td>\n",
              "      <td>1.005710</td>\n",
              "      <td>2.0</td>\n",
              "      <td>1.040242</td>\n",
              "      <td>27.0</td>\n",
              "      <td>1.025586</td>\n",
              "      <td>111.0</td>\n",
              "      <td>1.126130</td>\n",
              "      <td>535.0</td>\n",
              "    </tr>\n",
              "  </tbody>\n",
              "</table>\n",
              "<p>7345 rows × 17 columns</p>\n",
              "</div>\n",
              "      <button class=\"colab-df-convert\" onclick=\"convertToInteractive('df-8298c9a8-c330-405e-8278-62f257b7c73a')\"\n",
              "              title=\"Convert this dataframe to an interactive table.\"\n",
              "              style=\"display:none;\">\n",
              "        \n",
              "  <svg xmlns=\"http://www.w3.org/2000/svg\" height=\"24px\"viewBox=\"0 0 24 24\"\n",
              "       width=\"24px\">\n",
              "    <path d=\"M0 0h24v24H0V0z\" fill=\"none\"/>\n",
              "    <path d=\"M18.56 5.44l.94 2.06.94-2.06 2.06-.94-2.06-.94-.94-2.06-.94 2.06-2.06.94zm-11 1L8.5 8.5l.94-2.06 2.06-.94-2.06-.94L8.5 2.5l-.94 2.06-2.06.94zm10 10l.94 2.06.94-2.06 2.06-.94-2.06-.94-.94-2.06-.94 2.06-2.06.94z\"/><path d=\"M17.41 7.96l-1.37-1.37c-.4-.4-.92-.59-1.43-.59-.52 0-1.04.2-1.43.59L10.3 9.45l-7.72 7.72c-.78.78-.78 2.05 0 2.83L4 21.41c.39.39.9.59 1.41.59.51 0 1.02-.2 1.41-.59l7.78-7.78 2.81-2.81c.8-.78.8-2.07 0-2.86zM5.41 20L4 18.59l7.72-7.72 1.47 1.35L5.41 20z\"/>\n",
              "  </svg>\n",
              "      </button>\n",
              "      \n",
              "  <style>\n",
              "    .colab-df-container {\n",
              "      display:flex;\n",
              "      flex-wrap:wrap;\n",
              "      gap: 12px;\n",
              "    }\n",
              "\n",
              "    .colab-df-convert {\n",
              "      background-color: #E8F0FE;\n",
              "      border: none;\n",
              "      border-radius: 50%;\n",
              "      cursor: pointer;\n",
              "      display: none;\n",
              "      fill: #1967D2;\n",
              "      height: 32px;\n",
              "      padding: 0 0 0 0;\n",
              "      width: 32px;\n",
              "    }\n",
              "\n",
              "    .colab-df-convert:hover {\n",
              "      background-color: #E2EBFA;\n",
              "      box-shadow: 0px 1px 2px rgba(60, 64, 67, 0.3), 0px 1px 3px 1px rgba(60, 64, 67, 0.15);\n",
              "      fill: #174EA6;\n",
              "    }\n",
              "\n",
              "    [theme=dark] .colab-df-convert {\n",
              "      background-color: #3B4455;\n",
              "      fill: #D2E3FC;\n",
              "    }\n",
              "\n",
              "    [theme=dark] .colab-df-convert:hover {\n",
              "      background-color: #434B5C;\n",
              "      box-shadow: 0px 1px 3px 1px rgba(0, 0, 0, 0.15);\n",
              "      filter: drop-shadow(0px 1px 2px rgba(0, 0, 0, 0.3));\n",
              "      fill: #FFFFFF;\n",
              "    }\n",
              "  </style>\n",
              "\n",
              "      <script>\n",
              "        const buttonEl =\n",
              "          document.querySelector('#df-8298c9a8-c330-405e-8278-62f257b7c73a button.colab-df-convert');\n",
              "        buttonEl.style.display =\n",
              "          google.colab.kernel.accessAllowed ? 'block' : 'none';\n",
              "\n",
              "        async function convertToInteractive(key) {\n",
              "          const element = document.querySelector('#df-8298c9a8-c330-405e-8278-62f257b7c73a');\n",
              "          const dataTable =\n",
              "            await google.colab.kernel.invokeFunction('convertToInteractive',\n",
              "                                                     [key], {});\n",
              "          if (!dataTable) return;\n",
              "\n",
              "          const docLinkHtml = 'Like what you see? Visit the ' +\n",
              "            '<a target=\"_blank\" href=https://colab.research.google.com/notebooks/data_table.ipynb>data table notebook</a>'\n",
              "            + ' to learn more about interactive tables.';\n",
              "          element.innerHTML = '';\n",
              "          dataTable['output_type'] = 'display_data';\n",
              "          await google.colab.output.renderOutput(dataTable, element);\n",
              "          const docLink = document.createElement('div');\n",
              "          docLink.innerHTML = docLinkHtml;\n",
              "          element.appendChild(docLink);\n",
              "        }\n",
              "      </script>\n",
              "    </div>\n",
              "  </div>\n",
              "  "
            ]
          },
          "metadata": {},
          "execution_count": 47
        }
      ]
    },
    {
      "cell_type": "code",
      "source": [
        "model = RandomForestClassifier(n_estimators=200, min_samples_split=50, random_state=1)"
      ],
      "metadata": {
        "id": "ojyKd9WhG1WU"
      },
      "execution_count": 48,
      "outputs": []
    },
    {
      "cell_type": "code",
      "source": [
        "def predict(train, test, predictors, model):\n",
        "  model.fit(train[predictors], train[\"Target\"])\n",
        "  preds = model.predict_proba(test[predictors])[:,1]\n",
        "  preds[preds >= .6] = 1\n",
        "  preds[preds < .6] = 0\n",
        "  preds = pd.Series(preds, index=test.index, name=\"Predictions\")\n",
        "  combined = pd.concat([test[\"Target\"], preds], axis=1)\n",
        "  return combined"
      ],
      "metadata": {
        "id": "lvkrcR0wHDw4"
      },
      "execution_count": 49,
      "outputs": []
    },
    {
      "cell_type": "code",
      "source": [
        "predictions = backtest(sp500, model, new_predictors)"
      ],
      "metadata": {
        "id": "47ixYGR7HgDX"
      },
      "execution_count": 50,
      "outputs": []
    },
    {
      "cell_type": "code",
      "source": [
        "predictions[\"Predictions\"].value_counts()"
      ],
      "metadata": {
        "colab": {
          "base_uri": "https://localhost:8080/"
        },
        "id": "19CRk3o5HsHL",
        "outputId": "ffb55b8a-8ba6-4315-d906-a6b45784611a"
      },
      "execution_count": 51,
      "outputs": [
        {
          "output_type": "execute_result",
          "data": {
            "text/plain": [
              "0.0    4032\n",
              "1.0     813\n",
              "Name: Predictions, dtype: int64"
            ]
          },
          "metadata": {},
          "execution_count": 51
        }
      ]
    },
    {
      "cell_type": "code",
      "source": [
        "precision_score(predictions[\"Target\"], predictions[\"Predictions\"])"
      ],
      "metadata": {
        "colab": {
          "base_uri": "https://localhost:8080/"
        },
        "id": "rQajelWSH35L",
        "outputId": "2e57ff5f-3b0d-43ef-b12b-4b56b72267e9"
      },
      "execution_count": 52,
      "outputs": [
        {
          "output_type": "execute_result",
          "data": {
            "text/plain": [
              "0.5694956949569495"
            ]
          },
          "metadata": {},
          "execution_count": 52
        }
      ]
    },
    {
      "cell_type": "code",
      "source": [],
      "metadata": {
        "id": "9JTOTcHIIEUu"
      },
      "execution_count": null,
      "outputs": []
    }
  ]
}